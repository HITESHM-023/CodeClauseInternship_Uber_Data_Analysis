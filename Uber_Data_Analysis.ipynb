{
 "cells": [
  {
   "cell_type": "code",
   "execution_count": null,
   "metadata": {},
   "outputs": [],
   "source": [
    "import numpy as np\n",
    "import pandas as pd\n",
    "import matplotlib.pyplot as plt\n",
    "import seaborn as sns\n",
    "import tkinter as tk\n",
    "from tkinter import ttk"
   ]
  },
  {
   "cell_type": "code",
   "execution_count": null,
   "metadata": {},
   "outputs": [],
   "source": [
    "# Load your dataset\n",
    "uber_df = pd.read_csv(r\"C:\\Users\\Admin\\Desktop\\Uber Data Analysis\\uberdrive.csv\")"
   ]
  },
  {
   "cell_type": "code",
   "execution_count": null,
   "metadata": {},
   "outputs": [],
   "source": [
    "#Show the first 5 records of the dataset.\n",
    "uber_df[:5]"
   ]
  },
  {
   "cell_type": "code",
   "execution_count": null,
   "metadata": {},
   "outputs": [],
   "source": [
    "#Show the last 5 records of the dataset.\n",
    "uber_df.tail(5)\n"
   ]
  },
  {
   "cell_type": "code",
   "execution_count": null,
   "metadata": {},
   "outputs": [],
   "source": [
    "#Dataset Dimension\n",
    "uber_df.shape"
   ]
  },
  {
   "cell_type": "code",
   "execution_count": null,
   "metadata": {},
   "outputs": [],
   "source": [
    "#Dataset Size\n",
    "uber_df.size"
   ]
  },
  {
   "cell_type": "code",
   "execution_count": null,
   "metadata": {},
   "outputs": [],
   "source": [
    "#information about all the variables of the data set\n",
    "uber_df.info()"
   ]
  },
  {
   "cell_type": "code",
   "execution_count": null,
   "metadata": {},
   "outputs": [],
   "source": [
    "#Check for missing values.\n",
    "uber_df.isnull().values.any()"
   ]
  },
  {
   "cell_type": "code",
   "execution_count": null,
   "metadata": {},
   "outputs": [],
   "source": [
    "uber_df.isnull().values.sum()"
   ]
  },
  {
   "cell_type": "code",
   "execution_count": null,
   "metadata": {},
   "outputs": [],
   "source": [
    "uber_df.isnull().sum()"
   ]
  },
  {
   "cell_type": "code",
   "execution_count": null,
   "metadata": {},
   "outputs": [],
   "source": [
    "#Get the initial data (name it 'df') with dropping the NA values\n",
    "df =uber_df.dropna()\n",
    "df.isnull().values.any()"
   ]
  },
  {
   "cell_type": "code",
   "execution_count": null,
   "metadata": {},
   "outputs": [],
   "source": [
    "df.shape"
   ]
  },
  {
   "cell_type": "code",
   "execution_count": null,
   "metadata": {},
   "outputs": [],
   "source": [
    "#original data (before dropping the 'na' values).\n",
    "uber_df.describe()"
   ]
  },
  {
   "cell_type": "code",
   "execution_count": null,
   "metadata": {},
   "outputs": [],
   "source": [
    "#data (after dropping the 'na' values)\n",
    "df.describe()"
   ]
  },
  {
   "cell_type": "code",
   "execution_count": null,
   "metadata": {},
   "outputs": [],
   "source": [
    "uber_df.head(200)"
   ]
  },
  {
   "cell_type": "code",
   "execution_count": null,
   "metadata": {},
   "outputs": [],
   "source": [
    "#unique start destinations.\n",
    "len(uber_df[\"START*\"].unique())\n",
    "\n"
   ]
  },
  {
   "cell_type": "code",
   "execution_count": null,
   "metadata": {},
   "outputs": [],
   "source": [
    "a = set(uber_df[\"START*\"])\n",
    "len(a)"
   ]
  },
  {
   "cell_type": "code",
   "execution_count": null,
   "metadata": {
    "scrolled": false
   },
   "outputs": [],
   "source": [
    "un_start_destination = uber_df[\"START*\"].dropna()\n",
    "unique_start = set(un_start_destination)\n",
    "print(unique_start)"
   ]
  },
  {
   "cell_type": "code",
   "execution_count": null,
   "metadata": {},
   "outputs": [],
   "source": [
    "len(unique_start)"
   ]
  },
  {
   "cell_type": "code",
   "execution_count": null,
   "metadata": {},
   "outputs": [],
   "source": [
    "#unique stop destinations\n",
    "b = set(uber_df[\"STOP*\"])\n",
    "len(b)"
   ]
  },
  {
   "cell_type": "code",
   "execution_count": null,
   "metadata": {},
   "outputs": [],
   "source": [
    "stop_destination = uber_df[\"STOP*\"].dropna()\n",
    "unique_stop = set(stop_destination)\n",
    "len(unique_stop)"
   ]
  },
  {
   "cell_type": "code",
   "execution_count": null,
   "metadata": {},
   "outputs": [],
   "source": [
    "#Uber trips that has the starting point of Emeryville\n",
    "uber_df[uber_df['START*']=='Emeryville']"
   ]
  },
  {
   "cell_type": "code",
   "execution_count": null,
   "metadata": {},
   "outputs": [],
   "source": [
    "len(uber_df[uber_df['START*']=='Emeryville'])\n"
   ]
  },
  {
   "cell_type": "code",
   "execution_count": null,
   "metadata": {},
   "outputs": [],
   "source": [
    "uber_df[uber_df['START*'].isin(['San Francisco','Berkeley','Austin','Central'])]"
   ]
  },
  {
   "cell_type": "code",
   "execution_count": null,
   "metadata": {},
   "outputs": [],
   "source": [
    "uber_df[uber_df['STOP*'].isin(['Oakland','San Francisco','South'])]"
   ]
  },
  {
   "cell_type": "code",
   "execution_count": null,
   "metadata": {},
   "outputs": [],
   "source": [
    "uber_df[uber_df['STOP*'].isin(['Katy','Berkeley']) | uber_df['START*'].isin(['San Francisco','Central','Austin'])]"
   ]
  },
  {
   "cell_type": "code",
   "execution_count": null,
   "metadata": {},
   "outputs": [],
   "source": [
    "#The most popular starting point for the Uber drivers\n",
    "starting_point = uber_df[\"START*\"].dropna()\n",
    "starting_point"
   ]
  },
  {
   "cell_type": "code",
   "execution_count": null,
   "metadata": {},
   "outputs": [],
   "source": [
    "df = pd.DataFrame(starting_point.value_counts())\n",
    "df"
   ]
  },
  {
   "cell_type": "code",
   "execution_count": null,
   "metadata": {},
   "outputs": [],
   "source": [
    "df.sort_values([\"START*\"], ascending = False)\n",
    "df = df.reset_index()\n",
    "df.iloc[0,:]"
   ]
  },
  {
   "cell_type": "code",
   "execution_count": null,
   "metadata": {},
   "outputs": [],
   "source": [
    "starting_point = uber_df[\"START*\"].dropna()\n",
    "df = pd.DataFrame(starting_point.value_counts())\n",
    "df.sort_values([\"START*\"], ascending = False)\n",
    "df = df.reset_index()\n",
    "df = df.rename(columns = {'index':'starting_destination', 'START*':'Count'})\n",
    "df.loc[df['Count'] == max(df['Count'])]"
   ]
  },
  {
   "cell_type": "code",
   "execution_count": null,
   "metadata": {},
   "outputs": [],
   "source": [
    "uber_df['START*'].value_counts().head(1)\n"
   ]
  },
  {
   "cell_type": "code",
   "execution_count": null,
   "metadata": {},
   "outputs": [],
   "source": [
    "#most popular dropping point\n",
    "uber_df[\"STOP*\"].value_counts().head(1)"
   ]
  },
  {
   "cell_type": "code",
   "execution_count": null,
   "metadata": {},
   "outputs": [],
   "source": [
    "#least popular dropping point\n",
    "uber_df[\"STOP*\"].value_counts().tail(1)"
   ]
  },
  {
   "cell_type": "code",
   "execution_count": null,
   "metadata": {},
   "outputs": [],
   "source": [
    "#Most frequent route taken by Uber drivers\n",
    "df = uber_df.dropna()\n",
    "df = pd.DataFrame(df.groupby(['START*', 'STOP*']).size())\n",
    "df = df.rename(columns = {0:'Count'})\n",
    "df = df.sort_values(['Count'], ascending = False)\n",
    "df.loc[df['Count'] == max(df['Count'])]"
   ]
  },
  {
   "cell_type": "code",
   "execution_count": null,
   "metadata": {},
   "outputs": [],
   "source": [
    "#Types of purposes for the trip\n",
    "print(np.array(uber_df['PURPOSE*'].dropna().unique()))\n",
    "uber_df['MILES*'].groupby(uber_df['PURPOSE*']).sum()"
   ]
  },
  {
   "cell_type": "code",
   "execution_count": null,
   "metadata": {},
   "outputs": [],
   "source": [
    "df = pd.DataFrame(uber_df['MILES*'].groupby(uber_df['PURPOSE*']).sum())\n",
    "df.plot(kind = 'bar')\n",
    "plt.show()"
   ]
  },
  {
   "cell_type": "code",
   "execution_count": null,
   "metadata": {},
   "outputs": [],
   "source": [
    "# Filter the DataFrame for \"Personal\" and \"Business\" categories\n",
    "personal_df = uber_df[uber_df['CATEGORY*'] == 'Personal']\n",
    "business_df = uber_df[uber_df['CATEGORY*'] == 'Business']\n",
    "\n",
    "# Calculate the total number of trips and total distance traveled in miles for each category\n",
    "personal_trips = len(personal_df)\n",
    "personal_miles = personal_df['MILES*'].sum()\n",
    "\n",
    "business_trips = len(business_df)\n",
    "business_miles = business_df['MILES*'].sum()\n",
    "\n",
    "# Create a bar graph for total number of trips with narrow and close bars\n",
    "plt.figure(figsize=(8, 4))\n",
    "plt.bar(['Personal', 'Business'], [personal_trips, business_trips], color=['orange', 'black'], width=0.95) \n",
    "plt.title('Total Number of Trips by Category')\n",
    "plt.xlabel('Category')\n",
    "plt.ylabel('Number of Trips')\n",
    "\n",
    "# Create a bar graph for total distance traveled in miles with narrow and close bars\n",
    "plt.figure(figsize=(8, 4))\n",
    "plt.bar(['Personal', 'Business'], [personal_miles, business_miles], color=['orange', 'black'], width=0.95)   \n",
    "plt.title('Total Distance Traveled (Miles) by Category')\n",
    "plt.xlabel('Category')\n",
    "plt.ylabel('Total Miles')\n",
    "\n",
    "plt.tight_layout()\n",
    "plt.show()\n"
   ]
  },
  {
   "cell_type": "code",
   "execution_count": null,
   "metadata": {},
   "outputs": [],
   "source": [
    "# Sample DataFrame\n",
    "data = {'CATEGORY*': ['Business', 'Personal', 'Business', 'Personal'],\n",
    "        'MILES*': [10, 20, 15, 25]}\n",
    "uber_df = pd.DataFrame(data)\n",
    "\n",
    "# Group the DataFrame by 'CATEGORY*' and sum the 'MILES*' column\n",
    "df = uber_df.groupby(['CATEGORY*'])['MILES*'].sum()\n",
    "\n",
    "# Calculate proportions\n",
    "total_miles = df.sum()\n",
    "Business = df['Business'] / total_miles\n",
    "Personal = df['Personal'] / total_miles\n",
    "\n",
    "print(\"Business Proportion:\", Business)\n",
    "print(\"Personal Proportion:\", Personal)\n"
   ]
  },
  {
   "cell_type": "code",
   "execution_count": null,
   "metadata": {},
   "outputs": [],
   "source": [
    "#GUI Interface\n",
    "\n",
    "# Load your dataset\n",
    "uber_df = pd.read_csv(r\"C:\\Users\\Admin\\Desktop\\Uber Data Analysis\\uberdrive.csv\")\n",
    "\n",
    "# Function to retrieve details based on start and stop locations\n",
    "def get_details():\n",
    "    start_location = start_entry.get()\n",
    "    stop_location = stop_entry.get()\n",
    "\n",
    "    # Filter the dataset based on start and stop locations\n",
    "    filtered_data = uber_df[(uber_df['START*'] == start_location) & (uber_df['STOP*'] == stop_location)]\n",
    "\n",
    "    # Clear previous results\n",
    "    for row in result_tree.get_children():\n",
    "        result_tree.delete(row)\n",
    "\n",
    "    if not filtered_data.empty:\n",
    "        # Insert the filtered data into the treeview widget\n",
    "        for index, row_data in filtered_data.iterrows():\n",
    "            result_tree.insert(\"\", \"end\", values=row_data.tolist())\n",
    "    else:\n",
    "        result_tree.insert(\"\", \"end\", values=(\"No matching records found.\",))\n",
    "\n",
    "# Create the main application window\n",
    "root = tk.Tk()\n",
    "root.title(\"Uber Trip Details\")\n",
    "\n",
    "# Create and configure input fields\n",
    "start_label = ttk.Label(root, text=\"Start Location:\")\n",
    "start_label.grid(column=0, row=0, padx=10, pady=5, sticky=tk.W)\n",
    "start_entry = ttk.Entry(root)\n",
    "start_entry.grid(column=1, row=0, padx=10, pady=5)\n",
    "\n",
    "stop_label = ttk.Label(root, text=\"Stop Location:\")\n",
    "stop_label.grid(column=0, row=1, padx=10, pady=5, sticky=tk.W)\n",
    "stop_entry = ttk.Entry(root)\n",
    "stop_entry.grid(column=1, row=1, padx=10, pady=5)\n",
    "\n",
    "# Create and configure the \"Get Details\" button\n",
    "get_details_button = ttk.Button(root, text=\"Get Details\", command=get_details)\n",
    "get_details_button.grid(column=0, row=2, columnspan=2, padx=10, pady=10)\n",
    "\n",
    "# Replace asterisk in column names with underscores\n",
    "columns = [col.replace('*', '') for col in uber_df.columns]\n",
    "\n",
    "# Create a treeview widget to display results in a table\n",
    "result_tree = ttk.Treeview(root, columns=columns, show=\"headings\")\n",
    "for col in columns:\n",
    "    result_tree.heading(col, text=col)\n",
    "    result_tree.column(col, width=100)\n",
    "result_tree.grid(column=0, row=3, columnspan=2, padx=10, pady=10)\n",
    "\n",
    "# Start the GUI application\n",
    "root.mainloop()"
   ]
  },
  {
   "cell_type": "code",
   "execution_count": null,
   "metadata": {},
   "outputs": [],
   "source": []
  }
 ],
 "metadata": {
  "kernelspec": {
   "display_name": "Python 3 (ipykernel)",
   "language": "python",
   "name": "python3"
  },
  "language_info": {
   "codemirror_mode": {
    "name": "ipython",
    "version": 3
   },
   "file_extension": ".py",
   "mimetype": "text/x-python",
   "name": "python",
   "nbconvert_exporter": "python",
   "pygments_lexer": "ipython3",
   "version": "3.11.5"
  },
  "toc": {
   "base_numbering": 1,
   "nav_menu": {},
   "number_sections": true,
   "sideBar": true,
   "skip_h1_title": false,
   "title_cell": "Table of Contents",
   "title_sidebar": "Contents",
   "toc_cell": false,
   "toc_position": {},
   "toc_section_display": true,
   "toc_window_display": false
  },
  "varInspector": {
   "cols": {
    "lenName": 16,
    "lenType": 16,
    "lenVar": 40
   },
   "kernels_config": {
    "python": {
     "delete_cmd_postfix": "",
     "delete_cmd_prefix": "del ",
     "library": "var_list.py",
     "varRefreshCmd": "print(var_dic_list())"
    },
    "r": {
     "delete_cmd_postfix": ") ",
     "delete_cmd_prefix": "rm(",
     "library": "var_list.r",
     "varRefreshCmd": "cat(var_dic_list()) "
    }
   },
   "types_to_exclude": [
    "module",
    "function",
    "builtin_function_or_method",
    "instance",
    "_Feature"
   ],
   "window_display": false
  }
 },
 "nbformat": 4,
 "nbformat_minor": 2
}
